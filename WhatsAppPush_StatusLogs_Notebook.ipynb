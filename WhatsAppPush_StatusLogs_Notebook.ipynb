{
 "cells": [
  {
   "cell_type": "markdown",
   "metadata": {},
   "source": [
    "# WhatsAppPush StatusLogs Notebook\n",
    "Arunasish Ghosh"
   ]
  },
  {
   "cell_type": "code",
   "execution_count": null,
   "metadata": {},
   "outputs": [],
   "source": [
    "import requests, json, uuid, time, csv, io\n",
    "\n",
    "BASE_URL = 'https://e0cfn0j28h.execute-api.us-east-1.amazonaws.com/dev'\n",
    "GET_SIGNED_URL = BASE_URL + '/upload-url/{user_id}'\n",
    "CREATE_NOTIFICATION_URL = BASE_URL + '/notification'\n",
    "LIST_STATUS_LOGS_URL = BASE_URL + '/status/{notification_id}'\n",
    "DETAILS_STATUS_LOG_URL = BASE_URL + '/status/{notification_id}/{log_id}'\n",
    "STATUS_LOG_SUMMARY_URL = BASE_URL + '/status/summary/{notification_id}'\n",
    "\n",
    "USERID = 'jupyter_' + str(uuid.uuid4())[:8]\n",
    "\n",
    "print('user_id:', USERID)"
   ]
  },
  {
   "cell_type": "markdown",
   "metadata": {},
   "source": [
    "## Get signed url to upload csv"
   ]
  },
  {
   "cell_type": "code",
   "execution_count": null,
   "metadata": {},
   "outputs": [],
   "source": [
    "csvFileName = 'NewFile_' + str(int(time.time())) + '.csv'\n",
    "payload = dict(file_name = csvFileName)\n",
    "\n",
    "response = requests.post(GET_SIGNED_URL.format(user_id = USERID), data = json.dumps(payload))\n",
    "rspJson = response.json()\n",
    "uploadUrl = rspJson['url']\n",
    "\n",
    "print(response.request.method, response.request.url)\n",
    "print('Status:', response.status_code)\n",
    "print('Response:', json.dumps(rspJson, indent = 2))\n",
    "print('Copied upload URL')"
   ]
  },
  {
   "cell_type": "markdown",
   "metadata": {},
   "source": [
    "## Prepare and upload csv using pre signed url"
   ]
  },
  {
   "cell_type": "code",
   "execution_count": null,
   "metadata": {},
   "outputs": [],
   "source": [
    "from requests import Request, Session\n",
    " \n",
    "rows = [['Numbers'], ['919433746949'], ['919000000009'], ['918000000008']]\n",
    "\n",
    "buffer = io.StringIO()\n",
    "writer = csv.writer(buffer)\n",
    "\n",
    "for row in rows:\n",
    "    writer.writerow(row)\n",
    "\n",
    "content = buffer.getvalue()\n",
    "content.encode('utf-8')\n",
    "\n",
    "session = Session()\n",
    "request = Request('PUT', uploadUrl, data = format(content)).prepare()\n",
    "response = session.send(request)\n",
    "\n",
    "print(response.request.method, response.request.url)\n",
    "print('Status:', response.status_code)\n",
    "print('Response:', response.text)"
   ]
  },
  {
   "cell_type": "markdown",
   "metadata": {},
   "source": [
    "## Create Notification with bulk recipient list file"
   ]
  },
  {
   "cell_type": "code",
   "execution_count": null,
   "metadata": {},
   "outputs": [],
   "source": [
    "from datetime import datetime  \n",
    "from datetime import timedelta\n",
    "date = datetime.now() + timedelta(days = 5)\n",
    "message= \"Your appointment is coming up on \" + date.strftime(\"%m/%d/%Y\") + \" at \" + date.strftime(\"%H:%M\")\n",
    "\n",
    "payload = dict(message = message, recipient_list_file = csvFileName, user_id = USERID)\n",
    "\n",
    "response = requests.post(CREATE_NOTIFICATION_URL, data = json.dumps(payload))\n",
    "rspJson = response.json()\n",
    "notificationId = rspJson['notification_id']\n",
    "\n",
    "print(response.request.method, response.request.url)\n",
    "print('Status:', response.status_code)\n",
    "print('Response:', json.dumps(rspJson, indent = 2))"
   ]
  },
  {
   "cell_type": "markdown",
   "metadata": {},
   "source": [
    "## ** List Status Logs"
   ]
  },
  {
   "cell_type": "markdown",
   "metadata": {},
   "source": [
    "### Invalid notification_id"
   ]
  },
  {
   "cell_type": "code",
   "execution_count": null,
   "metadata": {},
   "outputs": [],
   "source": [
    "response = requests.get(LIST_STATUS_LOGS_URL.format(notification_id = 'random-notification-id'))\n",
    "rspJson = response.json()\n",
    "\n",
    "print(response.request.method, response.request.url)\n",
    "print('Status:', response.status_code)\n",
    "print('Response:', json.dumps(rspJson, indent = 2))"
   ]
  },
  {
   "cell_type": "markdown",
   "metadata": {},
   "source": [
    "### Valid notification_id"
   ]
  },
  {
   "cell_type": "code",
   "execution_count": null,
   "metadata": {},
   "outputs": [],
   "source": [
    "response = requests.get(LIST_STATUS_LOGS_URL.format(notification_id = notificationId))\n",
    "rspJson = response.json()\n",
    "logId1 = rspJson[0]['log_id']\n",
    "logId2 = rspJson[1]['log_id']\n",
    "\n",
    "print(response.request.method, response.request.url)\n",
    "print('Status:', response.status_code)\n",
    "print('Response:', json.dumps(rspJson, indent = 2))"
   ]
  },
  {
   "cell_type": "markdown",
   "metadata": {},
   "source": [
    "## ** Details Status Log"
   ]
  },
  {
   "cell_type": "markdown",
   "metadata": {},
   "source": [
    "### Invalid log_id"
   ]
  },
  {
   "cell_type": "code",
   "execution_count": null,
   "metadata": {},
   "outputs": [],
   "source": [
    "response = requests.get(DETAILS_STATUS_LOG_URL.format(notification_id = notificationId, log_id = 'random-log-id'))\n",
    "rspJson = response.json()\n",
    "\n",
    "print(response.request.method, response.request.url)\n",
    "print('Status:', response.status_code)\n",
    "print('Response:', json.dumps(rspJson, indent = 2))"
   ]
  },
  {
   "cell_type": "markdown",
   "metadata": {},
   "source": [
    "### Valid notification_id and log_id 1"
   ]
  },
  {
   "cell_type": "code",
   "execution_count": null,
   "metadata": {},
   "outputs": [],
   "source": [
    "response = requests.get(DETAILS_STATUS_LOG_URL.format(notification_id = notificationId, log_id = logId1))\n",
    "rspJson = response.json()\n",
    "\n",
    "print(response.request.method, response.request.url)\n",
    "print('Status:', response.status_code)\n",
    "print('Response:', json.dumps(rspJson, indent = 2))"
   ]
  },
  {
   "cell_type": "markdown",
   "metadata": {},
   "source": [
    "### Valid notification_id and log_id 2"
   ]
  },
  {
   "cell_type": "code",
   "execution_count": null,
   "metadata": {},
   "outputs": [],
   "source": [
    "response = requests.get(DETAILS_STATUS_LOG_URL.format(notification_id = notificationId, log_id = logId2))\n",
    "rspJson = response.json()\n",
    "\n",
    "print(response.request.method, response.request.url)\n",
    "print('Status:', response.status_code)\n",
    "print('Response:', json.dumps(rspJson, indent = 2))"
   ]
  },
  {
   "cell_type": "markdown",
   "metadata": {},
   "source": [
    "## ** Status Log Summary"
   ]
  },
  {
   "cell_type": "markdown",
   "metadata": {},
   "source": [
    "### Invalid notification_id"
   ]
  },
  {
   "cell_type": "code",
   "execution_count": null,
   "metadata": {},
   "outputs": [],
   "source": [
    "response = requests.get(STATUS_LOG_SUMMARY_URL.format(notification_id = 'random-notification-id'))\n",
    "rspJson = response.json()\n",
    "\n",
    "print(response.request.method, response.request.url)\n",
    "print('Status:', response.status_code)\n",
    "print('Response:', json.dumps(rspJson, indent = 2))"
   ]
  },
  {
   "cell_type": "markdown",
   "metadata": {},
   "source": [
    "### Valid notification_id"
   ]
  },
  {
   "cell_type": "code",
   "execution_count": null,
   "metadata": {},
   "outputs": [],
   "source": [
    "response = requests.get(STATUS_LOG_SUMMARY_URL.format(notification_id = notificationId))\n",
    "rspJson = response.json()\n",
    "\n",
    "print(response.request.method, response.request.url)\n",
    "print('Status:', response.status_code)\n",
    "print('Response:', json.dumps(rspJson, indent = 2))"
   ]
  }
 ],
 "metadata": {
  "kernelspec": {
   "display_name": "Python 3",
   "language": "python",
   "name": "python3"
  },
  "language_info": {
   "codemirror_mode": {
    "name": "ipython",
    "version": 3
   },
   "file_extension": ".py",
   "mimetype": "text/x-python",
   "name": "python",
   "nbconvert_exporter": "python",
   "pygments_lexer": "ipython3",
   "version": "3.9.0"
  }
 },
 "nbformat": 4,
 "nbformat_minor": 4
}
