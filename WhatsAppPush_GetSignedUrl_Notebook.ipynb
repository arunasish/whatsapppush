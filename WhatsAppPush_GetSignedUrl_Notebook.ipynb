{
 "cells": [
  {
   "cell_type": "markdown",
   "metadata": {},
   "source": [
    "# WhatsAppPush GetSignedUrl Notebook\n",
    "Arunasish Ghosh"
   ]
  },
  {
   "cell_type": "code",
   "execution_count": null,
   "metadata": {},
   "outputs": [],
   "source": [
    "import requests, json, uuid, time\n",
    "\n",
    "BASE_URL = 'https://e0cfn0j28h.execute-api.us-east-1.amazonaws.com/dev'\n",
    "GET_SIGNED_URL = BASE_URL + '/upload-url/{user_id}'\n",
    "\n",
    "USERID = 'jupyter_' + str(uuid.uuid4())[:8]\n",
    "\n",
    "print('user_id:', USERID)"
   ]
  },
  {
   "cell_type": "markdown",
   "metadata": {},
   "source": [
    "## Invalid request: missing file_name"
   ]
  },
  {
   "cell_type": "code",
   "execution_count": null,
   "metadata": {},
   "outputs": [],
   "source": [
    "payload = dict()\n",
    "\n",
    "response = requests.post(GET_SIGNED_URL.format(user_id = USERID), data = json.dumps(payload))\n",
    "rspJson = response.json()\n",
    "\n",
    "print(response.request.method, response.request.url)\n",
    "print('Status:', response.status_code)\n",
    "print('Response:', json.dumps(rspJson, indent = 2))"
   ]
  },
  {
   "cell_type": "markdown",
   "metadata": {},
   "source": [
    "## Valid request"
   ]
  },
  {
   "cell_type": "code",
   "execution_count": null,
   "metadata": {},
   "outputs": [],
   "source": [
    "payload = dict(file_name = 'NewFile_' + str(int(time.time())) + '.txt')\n",
    "\n",
    "response = requests.post(GET_SIGNED_URL.format(user_id = USERID), data = json.dumps(payload))\n",
    "rspJson = response.json()\n",
    "uploadUrl = rspJson['url']\n",
    "\n",
    "print(response.request.method, response.request.url)\n",
    "print('Status:', response.status_code)\n",
    "print('Response:', json.dumps(rspJson, indent = 2))\n",
    "print('Copied upload URL')"
   ]
  },
  {
   "cell_type": "markdown",
   "metadata": {},
   "source": [
    "## Upload file using pre signed url"
   ]
  },
  {
   "cell_type": "code",
   "execution_count": null,
   "metadata": {},
   "outputs": [],
   "source": [
    "from requests import Request, Session\n",
    "\n",
    "loremIpsum = requests.get('https://loremipsum.de/downloads/original.txt') \n",
    "\n",
    "session = Session()\n",
    "files = {'file': ('LoremIpsum.txt', loremIpsum.content)}\n",
    "request = Request('PUT', uploadUrl, files = files).prepare()\n",
    "del request.headers['Content-Type']\n",
    "response = session.send(request)\n",
    "\n",
    "print(response.request.method, response.request.url)\n",
    "print('Status:', response.status_code)\n",
    "print('Response:', response.text)"
   ]
  }
 ],
 "metadata": {
  "kernelspec": {
   "display_name": "Python 3",
   "language": "python",
   "name": "python3"
  },
  "language_info": {
   "codemirror_mode": {
    "name": "ipython",
    "version": 3
   },
   "file_extension": ".py",
   "mimetype": "text/x-python",
   "name": "python",
   "nbconvert_exporter": "python",
   "pygments_lexer": "ipython3",
   "version": "3.9.0"
  }
 },
 "nbformat": 4,
 "nbformat_minor": 4
}
