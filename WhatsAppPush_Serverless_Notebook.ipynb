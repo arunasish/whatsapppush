{
 "cells": [
  {
   "cell_type": "markdown",
   "metadata": {},
   "source": [
    "# WhatsAppPush AWS Serverless Notebook\n",
    "Arunasish Ghosh"
   ]
  },
  {
   "cell_type": "code",
   "execution_count": null,
   "metadata": {
    "scrolled": false
   },
   "outputs": [],
   "source": [
    "import requests, json, uuid\n",
    "\n",
    "BASE_URL = 'https://e0cfn0j28h.execute-api.us-east-1.amazonaws.com/dev'\n",
    "CREATE_URL = BASE_URL + '/templates'\n",
    "UPDATE_URL = BASE_URL + '/templates/{user_id}/{template_id}'\n",
    "DELETE_URL = BASE_URL + '/templates/{user_id}/{template_id}'\n",
    "DETAILS_URL = BASE_URL + '/templates/{user_id}/{template_id}'\n",
    "LIST_URL = BASE_URL + '/templates/{user_id}'\n",
    "\n",
    "USERID = 'jupyter_' + str(uuid.uuid4())[:8]\n",
    "\n",
    "print('user_id:', USERID)"
   ]
  },
  {
   "cell_type": "markdown",
   "metadata": {},
   "source": [
    "## ** Create Templates"
   ]
  },
  {
   "cell_type": "markdown",
   "metadata": {},
   "source": [
    "### Invalid create request: missing templateName"
   ]
  },
  {
   "cell_type": "code",
   "execution_count": null,
   "metadata": {
    "scrolled": false
   },
   "outputs": [],
   "source": [
    "payload = dict(messageText = 'Hello AWS, this is invalid template',\n",
    "               user_id = USERID,\n",
    "               idempotent_key = USERID + '_UNIQ789')\n",
    "\n",
    "response = requests.post(CREATE_URL, data = json.dumps(payload))\n",
    "\n",
    "print(response.request.method, response.request.url)\n",
    "print('Status:', response.status_code)\n",
    "print('Response:', json.dumps(response.json(), indent = 2))"
   ]
  },
  {
   "cell_type": "markdown",
   "metadata": {},
   "source": [
    "### Valid create request 1"
   ]
  },
  {
   "cell_type": "code",
   "execution_count": null,
   "metadata": {
    "scrolled": true
   },
   "outputs": [],
   "source": [
    "payload = dict(templateName = 'Template 1',\n",
    "               messageText = 'Hello AWS, this is first valid template',\n",
    "               user_id = USERID,\n",
    "               idempotent_key = USERID + '_UNIQ123')\n",
    "\n",
    "response = requests.post(CREATE_URL, data = json.dumps(payload))\n",
    "rspJson = response.json()\n",
    "templateId1 = rspJson['template_id']\n",
    "\n",
    "print(response.request.method, response.request.url)\n",
    "print('Status:', response.status_code)\n",
    "print('Response:', json.dumps(rspJson, indent = 2))\n",
    "print('templateId1 extracted:', templateId1)"
   ]
  },
  {
   "cell_type": "markdown",
   "metadata": {},
   "source": [
    "### Duplicate create request: idempotent_key = 'UNIQ123'"
   ]
  },
  {
   "cell_type": "code",
   "execution_count": null,
   "metadata": {
    "scrolled": true
   },
   "outputs": [],
   "source": [
    "payload = dict(templateName = 'Template duplicate',\n",
    "               messageText = 'Hello AWS, this is duplicate template',\n",
    "               user_id = USERID,\n",
    "               idempotent_key = USERID + '_UNIQ123')\n",
    "\n",
    "response = requests.post(CREATE_URL, data = json.dumps(payload))\n",
    "\n",
    "print(response.request.method, response.request.url)\n",
    "print('Status:', response.status_code)\n",
    "print('Response:', json.dumps(response.json(), indent = 2))"
   ]
  },
  {
   "cell_type": "markdown",
   "metadata": {},
   "source": [
    "### Valid create request 2"
   ]
  },
  {
   "cell_type": "code",
   "execution_count": null,
   "metadata": {
    "scrolled": false
   },
   "outputs": [],
   "source": [
    "payload = dict(templateName = 'Template 2',\n",
    "               messageText = 'Hello AWS, this is second valid template',\n",
    "               user_id = USERID,\n",
    "               idempotent_key = USERID + '_UNIQ456')\n",
    "\n",
    "response = requests.post(CREATE_URL, data = json.dumps(payload))\n",
    "rspJson = response.json()\n",
    "templateId2 = rspJson['template_id']\n",
    "\n",
    "print(response.request.method, response.request.url)\n",
    "print('Status:', response.status_code)\n",
    "print('Response:', json.dumps(rspJson, indent = 2))\n",
    "print('templateId2 extracted:', templateId2)"
   ]
  },
  {
   "cell_type": "markdown",
   "metadata": {},
   "source": [
    "### Valid create request 3"
   ]
  },
  {
   "cell_type": "code",
   "execution_count": null,
   "metadata": {},
   "outputs": [],
   "source": [
    "payload = dict(templateName = 'Template 3',\n",
    "               messageText = 'Hello AWS, this is third valid template',\n",
    "               user_id = USERID,\n",
    "               idempotent_key = USERID + '_UNIQ789')\n",
    "\n",
    "response = requests.post(CREATE_URL, data = json.dumps(payload))\n",
    "rspJson = response.json()\n",
    "templateId3 = rspJson['template_id']\n",
    "\n",
    "print(response.request.method, response.request.url)\n",
    "print('Status:', response.status_code)\n",
    "print('Response:', json.dumps(rspJson, indent = 2))\n",
    "print('templateId3 extracted:', templateId3)"
   ]
  },
  {
   "cell_type": "markdown",
   "metadata": {},
   "source": [
    "## ** Update Templates"
   ]
  },
  {
   "cell_type": "markdown",
   "metadata": {},
   "source": [
    "### Invalid update request: missing messageText"
   ]
  },
  {
   "cell_type": "code",
   "execution_count": null,
   "metadata": {},
   "outputs": [],
   "source": [
    "payload = dict(templateName = 'Invalid update Template')\n",
    "\n",
    "response = requests.put(UPDATE_URL.format(user_id = USERID, template_id = templateId1), data = json.dumps(payload))\n",
    "rspJson = response.json()\n",
    "\n",
    "print(response.request.method, response.request.url)\n",
    "print('Status:', response.status_code)\n",
    "print('Response:', json.dumps(rspJson, indent = 2))"
   ]
  },
  {
   "cell_type": "markdown",
   "metadata": {},
   "source": [
    "### Invalid update request: non existing template_id"
   ]
  },
  {
   "cell_type": "code",
   "execution_count": null,
   "metadata": {},
   "outputs": [],
   "source": [
    "payload = dict(templateName = 'Template 1 Updated',\n",
    "               messageText = 'Hello AWS, the first template is updated')\n",
    "\n",
    "response = requests.put(UPDATE_URL.format(user_id = USERID, template_id = 'random-id'), data = json.dumps(payload))\n",
    "rspJson = response.json()\n",
    "\n",
    "print(response.request.method, response.request.url)\n",
    "print('Status:', response.status_code)\n",
    "print('Response:', json.dumps(rspJson, indent = 2))"
   ]
  },
  {
   "cell_type": "markdown",
   "metadata": {},
   "source": [
    "### Valid update request: updating first template"
   ]
  },
  {
   "cell_type": "code",
   "execution_count": null,
   "metadata": {},
   "outputs": [],
   "source": [
    "payload = dict(templateName = 'Template 1 Updated',\n",
    "               messageText = 'Hello AWS, the first template is updated')\n",
    "\n",
    "response = requests.put(UPDATE_URL.format(user_id = USERID, template_id = templateId1), data = json.dumps(payload))\n",
    "rspJson = response.json()\n",
    "\n",
    "print(response.request.method, response.request.url)\n",
    "print('Status:', response.status_code)\n",
    "print('Response:', json.dumps(rspJson, indent = 2))"
   ]
  },
  {
   "cell_type": "markdown",
   "metadata": {},
   "source": [
    "## ** Delete Templates"
   ]
  },
  {
   "cell_type": "markdown",
   "metadata": {},
   "source": [
    "### Invalid delete request: non existing template_id"
   ]
  },
  {
   "cell_type": "code",
   "execution_count": null,
   "metadata": {},
   "outputs": [],
   "source": [
    "response = requests.delete(DELETE_URL.format(user_id = USERID, template_id = 'random-id'))\n",
    "\n",
    "print(response.request.method, response.request.url)\n",
    "print('Status:', response.status_code)\n",
    "print('Response:', json.dumps(response.json(), indent = 2))"
   ]
  },
  {
   "cell_type": "markdown",
   "metadata": {},
   "source": [
    "### Valid delete request: deleting second template"
   ]
  },
  {
   "cell_type": "code",
   "execution_count": null,
   "metadata": {},
   "outputs": [],
   "source": [
    "response = requests.delete(DELETE_URL.format(user_id = USERID, template_id = templateId2))\n",
    "\n",
    "print(response.request.method, response.request.url)\n",
    "print('Status:', response.status_code)\n",
    "print('Response:', json.dumps(response.json(), indent = 2))"
   ]
  },
  {
   "cell_type": "markdown",
   "metadata": {},
   "source": [
    "## ** Details Templates"
   ]
  },
  {
   "cell_type": "markdown",
   "metadata": {},
   "source": [
    "### Invalid details request: non existing template_id"
   ]
  },
  {
   "cell_type": "code",
   "execution_count": null,
   "metadata": {
    "scrolled": false
   },
   "outputs": [],
   "source": [
    "response = requests.get(DETAILS_URL.format(user_id = USERID, template_id = 'random-id'))\n",
    "\n",
    "print(response.request.method, response.request.url)\n",
    "print('Status:', response.status_code)\n",
    "print('Response:', json.dumps(response.json(), indent = 2))"
   ]
  },
  {
   "cell_type": "markdown",
   "metadata": {},
   "source": [
    "### Valid details request: get first template"
   ]
  },
  {
   "cell_type": "code",
   "execution_count": null,
   "metadata": {
    "scrolled": false
   },
   "outputs": [],
   "source": [
    "response = requests.get(DETAILS_URL.format(user_id = USERID, template_id = templateId1))\n",
    "\n",
    "print(response.request.method, response.request.url)\n",
    "print('Status:', response.status_code)\n",
    "print('Response:', json.dumps(response.json(), indent = 2))"
   ]
  },
  {
   "cell_type": "markdown",
   "metadata": {},
   "source": [
    "## ** List Templates"
   ]
  },
  {
   "cell_type": "markdown",
   "metadata": {},
   "source": [
    "### List all templates for user"
   ]
  },
  {
   "cell_type": "code",
   "execution_count": null,
   "metadata": {
    "scrolled": false
   },
   "outputs": [],
   "source": [
    "response = requests.get(LIST_URL.format(user_id = USERID))\n",
    "\n",
    "print(response.request.method, response.request.url)\n",
    "print('Status:', response.status_code)\n",
    "print('Response:', json.dumps(response.json(), indent = 2))"
   ]
  },
  {
   "cell_type": "markdown",
   "metadata": {},
   "source": [
    "### Delete first and third templates"
   ]
  },
  {
   "cell_type": "code",
   "execution_count": null,
   "metadata": {},
   "outputs": [],
   "source": [
    "response1 = requests.delete(DELETE_URL.format(user_id = USERID, template_id = templateId1))\n",
    "\n",
    "print(response1.request.method, response1.request.url)\n",
    "print('Status:', response1.status_code)\n",
    "print('Response:', json.dumps(response1.json(), indent = 2))\n",
    "\n",
    "response2 = requests.delete(DELETE_URL.format(user_id = USERID, template_id = templateId3))\n",
    "\n",
    "print(response2.request.method, response2.request.url)\n",
    "print('Status:', response2.status_code)\n",
    "print('Response:', json.dumps(response2.json(), indent = 2))"
   ]
  },
  {
   "cell_type": "markdown",
   "metadata": {},
   "source": [
    "### List after deleting templates"
   ]
  },
  {
   "cell_type": "code",
   "execution_count": null,
   "metadata": {},
   "outputs": [],
   "source": [
    "response = requests.get(LIST_URL.format(user_id = USERID))\n",
    "\n",
    "print(response.request.method, response.request.url)\n",
    "print('Status:', response.status_code)\n",
    "print('Response:', json.dumps(response.json(), indent = 2))"
   ]
  }
 ],
 "metadata": {
  "kernelspec": {
   "display_name": "Python 3",
   "language": "python",
   "name": "python3"
  },
  "language_info": {
   "codemirror_mode": {
    "name": "ipython",
    "version": 3
   },
   "file_extension": ".py",
   "mimetype": "text/x-python",
   "name": "python",
   "nbconvert_exporter": "python",
   "pygments_lexer": "ipython3",
   "version": "3.9.0"
  }
 },
 "nbformat": 4,
 "nbformat_minor": 4
}
