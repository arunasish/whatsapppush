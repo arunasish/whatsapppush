{
 "cells": [
  {
   "cell_type": "markdown",
   "metadata": {},
   "source": [
    "# WhatsAppPush Notification Notebook\n",
    "Arunasish Ghosh"
   ]
  },
  {
   "cell_type": "code",
   "execution_count": 2,
   "metadata": {},
   "outputs": [
    {
     "name": "stdout",
     "output_type": "stream",
     "text": [
      "user_id: jupyter_462d26fc\n"
     ]
    }
   ],
   "source": [
    "import requests, json, uuid, time, csv, io\n",
    "\n",
    "BASE_URL = 'https://e0cfn0j28h.execute-api.us-east-1.amazonaws.com/dev'\n",
    "CREATE_NOTIFICATION_URL = BASE_URL + '/notification'\n",
    "LIST_NOTIFICATION_URL = BASE_URL + '/notification/{user_id}'\n",
    "CREATE_TEMPLATE_URL = BASE_URL + '/templates'\n",
    "GET_SIGNED_URL = BASE_URL + '/upload-url/{user_id}'\n",
    "\n",
    "USERID = 'jupyter_' + str(uuid.uuid4())[:8]\n",
    "\n",
    "print('user_id:', USERID)"
   ]
  },
  {
   "cell_type": "markdown",
   "metadata": {},
   "source": [
    "## ** Create Notification"
   ]
  },
  {
   "cell_type": "markdown",
   "metadata": {},
   "source": [
    "### Invalid Request: missing message/message_template_id"
   ]
  },
  {
   "cell_type": "code",
   "execution_count": null,
   "metadata": {},
   "outputs": [],
   "source": [
    "payload = dict(recipient = '8080808080', user_id = USERID)\n",
    "\n",
    "response = requests.post(CREATE_NOTIFICATION_URL, data = json.dumps(payload))\n",
    "rspJson = response.json()\n",
    "\n",
    "print(response.request.method, response.request.url)\n",
    "print('Status:', response.status_code)\n",
    "print('Response:', json.dumps(rspJson, indent = 2))"
   ]
  },
  {
   "cell_type": "markdown",
   "metadata": {},
   "source": [
    "### Invalid Request: missing recipient/recipient_list_file"
   ]
  },
  {
   "cell_type": "code",
   "execution_count": null,
   "metadata": {},
   "outputs": [],
   "source": [
    "payload = dict(message = 'Best Wishes', user_id = USERID)\n",
    "\n",
    "response = requests.post(CREATE_NOTIFICATION_URL, data = json.dumps(payload))\n",
    "rspJson = response.json()\n",
    "\n",
    "print(response.request.method, response.request.url)\n",
    "print('Status:', response.status_code)\n",
    "print('Response:', json.dumps(rspJson, indent = 2))"
   ]
  },
  {
   "cell_type": "markdown",
   "metadata": {},
   "source": [
    "### Invalid Request: missing user_id"
   ]
  },
  {
   "cell_type": "code",
   "execution_count": null,
   "metadata": {},
   "outputs": [],
   "source": [
    "payload = dict(message = 'Best Wishes', recipient = '8080808080')\n",
    "\n",
    "response = requests.post(CREATE_NOTIFICATION_URL, data = json.dumps(payload))\n",
    "rspJson = response.json()\n",
    "\n",
    "print(response.request.method, response.request.url)\n",
    "print('Status:', response.status_code)\n",
    "print('Response:', json.dumps(rspJson, indent = 2))"
   ]
  },
  {
   "cell_type": "markdown",
   "metadata": {},
   "source": [
    "### Invalid Request: incorrect message_template_id"
   ]
  },
  {
   "cell_type": "code",
   "execution_count": null,
   "metadata": {},
   "outputs": [],
   "source": [
    "payload = dict(message_template_id = 'randomId', recipient = '8080808080', user_id = USERID)\n",
    "\n",
    "response = requests.post(CREATE_NOTIFICATION_URL, data = json.dumps(payload))\n",
    "rspJson = response.json()\n",
    "\n",
    "print(response.request.method, response.request.url)\n",
    "print('Status:', response.status_code)\n",
    "print('Response:', json.dumps(rspJson, indent = 2))"
   ]
  },
  {
   "cell_type": "markdown",
   "metadata": {},
   "source": [
    "### Invalid Request: incorrect recipient_list_file"
   ]
  },
  {
   "cell_type": "code",
   "execution_count": null,
   "metadata": {},
   "outputs": [],
   "source": [
    "payload = dict(message = 'Best Wishes', recipient_list_file = 'randomFile', user_id = USERID)\n",
    "\n",
    "response = requests.post(CREATE_NOTIFICATION_URL, data = json.dumps(payload))\n",
    "rspJson = response.json()\n",
    "\n",
    "print(response.request.method, response.request.url)\n",
    "print('Status:', response.status_code)\n",
    "print('Response:', json.dumps(rspJson, indent = 2))"
   ]
  },
  {
   "cell_type": "markdown",
   "metadata": {},
   "source": [
    "### Valid Request: with message, single recipient"
   ]
  },
  {
   "cell_type": "code",
   "execution_count": null,
   "metadata": {},
   "outputs": [],
   "source": [
    "payload = dict(message = 'Best Wishes', recipient = '8080808080', user_id = USERID)\n",
    "\n",
    "response = requests.post(CREATE_NOTIFICATION_URL, data = json.dumps(payload))\n",
    "rspJson = response.json()\n",
    "\n",
    "print(response.request.method, response.request.url)\n",
    "print('Status:', response.status_code)\n",
    "print('Response:', json.dumps(rspJson, indent = 2))"
   ]
  },
  {
   "cell_type": "markdown",
   "metadata": {},
   "source": [
    "### Create a template for later use"
   ]
  },
  {
   "cell_type": "code",
   "execution_count": null,
   "metadata": {},
   "outputs": [],
   "source": [
    "payload = dict(templateName = 'Template 1',\n",
    "               messageText = 'Best Wishes from serverless.',\n",
    "               user_id = USERID,\n",
    "               idempotent_key = USERID + '_UNIQ123')\n",
    "\n",
    "response = requests.post(CREATE_TEMPLATE_URL, data = json.dumps(payload))\n",
    "rspJson = response.json()\n",
    "templateId = rspJson['template_id']\n",
    "\n",
    "print(response.request.method, response.request.url)\n",
    "print('Status:', response.status_code)\n",
    "print('Response:', json.dumps(rspJson, indent = 2))\n",
    "print('templateId extracted:', templateId)"
   ]
  },
  {
   "cell_type": "markdown",
   "metadata": {},
   "source": [
    "### Valid Request: with message_template_id, single recipient"
   ]
  },
  {
   "cell_type": "code",
   "execution_count": null,
   "metadata": {},
   "outputs": [],
   "source": [
    "payload = dict(message_template_id = templateId, recipient = '8080808080', user_id = USERID)\n",
    "\n",
    "response = requests.post(CREATE_NOTIFICATION_URL, data = json.dumps(payload))\n",
    "rspJson = response.json()\n",
    "\n",
    "print(response.request.method, response.request.url)\n",
    "print('Status:', response.status_code)\n",
    "print('Response:', json.dumps(rspJson, indent = 2))"
   ]
  },
  {
   "cell_type": "markdown",
   "metadata": {},
   "source": [
    "### Get signed url to upload csv"
   ]
  },
  {
   "cell_type": "code",
   "execution_count": null,
   "metadata": {},
   "outputs": [],
   "source": [
    "csvFileName = 'NewFile_' + str(int(time.time())) + '.csv'\n",
    "payload = dict(file_name = csvFileName)\n",
    "\n",
    "response = requests.post(GET_SIGNED_URL.format(user_id = USERID), data = json.dumps(payload))\n",
    "rspJson = response.json()\n",
    "uploadUrl = rspJson['url']\n",
    "\n",
    "print(response.request.method, response.request.url)\n",
    "print('Status:', response.status_code)\n",
    "print('Response:', json.dumps(rspJson, indent = 2))\n",
    "print('Copied upload URL')"
   ]
  },
  {
   "cell_type": "markdown",
   "metadata": {},
   "source": [
    "### Prepare and upload csv using pre signed url"
   ]
  },
  {
   "cell_type": "code",
   "execution_count": null,
   "metadata": {},
   "outputs": [],
   "source": [
    "from requests import Request, Session\n",
    " \n",
    "rows = [['Numbers'], ['9876543210'], ['8765432109'], ['7654321098'], ['6543210987']]\n",
    "\n",
    "buffer = io.StringIO()\n",
    "writer = csv.writer(buffer)\n",
    "\n",
    "for row in rows:\n",
    "    writer.writerow(row)\n",
    "\n",
    "content = buffer.getvalue()\n",
    "content.encode('utf-8')\n",
    "\n",
    "session = Session()\n",
    "request = Request('PUT', uploadUrl, data = format(content)).prepare()\n",
    "response = session.send(request)\n",
    "\n",
    "print(response.request.method, response.request.url)\n",
    "print('Status:', response.status_code)\n",
    "print('Response:', response.text)"
   ]
  },
  {
   "cell_type": "markdown",
   "metadata": {},
   "source": [
    "### Valid Request: with message_template_id, bulk recipient list file"
   ]
  },
  {
   "cell_type": "code",
   "execution_count": null,
   "metadata": {},
   "outputs": [],
   "source": [
    "payload = dict(message_template_id = templateId, recipient_list_file = csvFileName, user_id = USERID)\n",
    "\n",
    "response = requests.post(CREATE_NOTIFICATION_URL, data = json.dumps(payload))\n",
    "rspJson = response.json()\n",
    "\n",
    "print(response.request.method, response.request.url)\n",
    "print('Status:', response.status_code)\n",
    "print('Response:', json.dumps(rspJson, indent = 2))"
   ]
  },
  {
   "cell_type": "markdown",
   "metadata": {},
   "source": [
    "## ** List Notifications for user "
   ]
  },
  {
   "cell_type": "markdown",
   "metadata": {},
   "source": [
    "### Valid user id"
   ]
  },
  {
   "cell_type": "code",
   "execution_count": 4,
   "metadata": {},
   "outputs": [
    {
     "name": "stdout",
     "output_type": "stream",
     "text": [
      "GET https://e0cfn0j28h.execute-api.us-east-1.amazonaws.com/dev/notification/jupyter_462d26fc\n",
      "Status: 404\n",
      "Response: {\n",
      "  \"error\": \"Notification task not found for the requested user\"\n",
      "}\n"
     ]
    }
   ],
   "source": [
    "response = requests.get(LIST_NOTIFICATION_URL.format(user_id = USERID))\n",
    "rspJson = response.json()\n",
    "\n",
    "print(response.request.method, response.request.url)\n",
    "print('Status:', response.status_code)\n",
    "print('Response:', json.dumps(rspJson, indent = 2))"
   ]
  },
  {
   "cell_type": "markdown",
   "metadata": {},
   "source": [
    "### Invalid user id"
   ]
  },
  {
   "cell_type": "code",
   "execution_count": 5,
   "metadata": {},
   "outputs": [
    {
     "name": "stdout",
     "output_type": "stream",
     "text": [
      "GET https://e0cfn0j28h.execute-api.us-east-1.amazonaws.com/dev/notification/random-user\n",
      "Status: 404\n",
      "Response: {\n",
      "  \"error\": \"Notification task not found for the requested user\"\n",
      "}\n"
     ]
    }
   ],
   "source": [
    "response = requests.get(LIST_NOTIFICATION_URL.format(user_id = 'random-user'))\n",
    "rspJson = response.json()\n",
    "\n",
    "print(response.request.method, response.request.url)\n",
    "print('Status:', response.status_code)\n",
    "print('Response:', json.dumps(rspJson, indent = 2))"
   ]
  }
 ],
 "metadata": {
  "kernelspec": {
   "display_name": "Python 3",
   "language": "python",
   "name": "python3"
  },
  "language_info": {
   "codemirror_mode": {
    "name": "ipython",
    "version": 3
   },
   "file_extension": ".py",
   "mimetype": "text/x-python",
   "name": "python",
   "nbconvert_exporter": "python",
   "pygments_lexer": "ipython3",
   "version": "3.9.0"
  }
 },
 "nbformat": 4,
 "nbformat_minor": 4
}
